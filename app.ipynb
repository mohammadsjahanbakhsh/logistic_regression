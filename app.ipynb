{
 "cells": [
  {
   "cell_type": "code",
   "execution_count": null,
   "metadata": {},
   "outputs": [],
   "source": []
  },
  {
   "attachments": {},
   "cell_type": "markdown",
   "metadata": {},
   "source": [
    "<h2 align=left style=\"line-height:150%;font-family:vazir;color:#0099cc\">\n",
    "<font face=\"vazir\" color=\"#0099cc\">\n",
    "problem description\n",
    "</font>\n",
    "</h2>"
   ]
  },
  {
   "attachments": {},
   "cell_type": "markdown",
   "metadata": {},
   "source": [
    "The Taiwan Blood Donation Institute has transferred its data to the National University of Taiwan in order to analyze its data and predict the need for blood in the country. The National University of Taiwan has converted the initial data into the form that will be introduced below after initial investigations and extensive changes and the use of behavioral analysis techniques.\n",
    "  <br>\n",
    "  \n",
    "     Now we want to predict whether Taiwanese citizens donate blood on a particular history!"
   ]
  },
  {
   "cell_type": "code",
   "execution_count": 9,
   "metadata": {},
   "outputs": [],
   "source": [
    "# import library\n",
    "import pandas as pd\n",
    "from sklearn.model_selection import KFold\n",
    "from sklearn.preprocessing import PolynomialFeatures,StandardScaler \n",
    "from sklearn.linear_model import LogisticRegression\n",
    "from sklearn.metrics import f1_score\n",
    "from numpy import mean"
   ]
  },
  {
   "attachments": {},
   "cell_type": "markdown",
   "metadata": {},
   "source": [
    "<h2 align=left style=\"line-height:130%;font-family:vazir;color:#0099cc\">\n",
    "<font face=\"vazir\" color=\"#0099cc\">\n",
    "Introducing Data Collection\n",
    "</font>\n",
    "</h2>\n"
   ]
  },
  {
   "attachments": {},
   "cell_type": "markdown",
   "metadata": {},
   "source": [
    "<center>\n",
    "<div dir=rtl style=\"line-height:200%;font-family:vazir;font-size:medium\">\n",
    "<font face=\"vazir\" size=3>\n",
    "    \n",
    "|Feature name|Description|\n",
    "|:------:|:---:|\n",
    "|<code>Recency (months)</code>|The number of fish that passes through the last time of blood donation by a citizen|\n",
    "|<code>Frequency (times)</code>|The number of times a number of blood donated by a bloodthirsty citizen|\n",
    "|<code>Monetary (c.c. blood)</code>|The amount of cubic centimeters of blood that a citizen has ever donated|\n",
    "|<code>Time (months)</code>|The number of fish that runs from the first time of blood donation by a citizen|\n",
    "|<code>whether he/she donated blood in March 2007</code>|Has the citizen donated blood on March 2 (the target column!)|\n",
    "    \n",
    "</font>\n",
    "</div>\n",
    "</center>"
   ]
  },
  {
   "cell_type": "markdown",
   "metadata": {},
   "source": []
  },
  {
   "attachments": {},
   "cell_type": "markdown",
   "metadata": {},
   "source": [
    "<h2 align=left style=\"line-height:130%;font-family:vazir;color:#1090ac\">\n",
    "<font face=\"vazir\" color=\"#1090ac\">\n",
    "Reading dataset\n",
    "</font>\n",
    "</h2>"
   ]
  },
  {
   "cell_type": "code",
   "execution_count": 3,
   "metadata": {},
   "outputs": [],
   "source": [
    "train = pd.read_csv('train.csv')\n",
    "test = pd.read_csv('test.csv')"
   ]
  },
  {
   "cell_type": "code",
   "execution_count": null,
   "metadata": {},
   "outputs": [],
   "source": [
    "test"
   ]
  },
  {
   "cell_type": "code",
   "execution_count": null,
   "metadata": {},
   "outputs": [],
   "source": [
    "train"
   ]
  },
  {
   "cell_type": "code",
   "execution_count": 31,
   "metadata": {},
   "outputs": [
    {
     "data": {
      "text/html": [
       "<div>\n",
       "<style scoped>\n",
       "    .dataframe tbody tr th:only-of-type {\n",
       "        vertical-align: middle;\n",
       "    }\n",
       "\n",
       "    .dataframe tbody tr th {\n",
       "        vertical-align: top;\n",
       "    }\n",
       "\n",
       "    .dataframe thead th {\n",
       "        text-align: right;\n",
       "    }\n",
       "</style>\n",
       "<table border=\"1\" class=\"dataframe\">\n",
       "  <thead>\n",
       "    <tr style=\"text-align: right;\">\n",
       "      <th></th>\n",
       "      <th>Recency (months)</th>\n",
       "      <th>Frequency (times)</th>\n",
       "      <th>Monetary (c.c. blood)</th>\n",
       "      <th>Time (months)</th>\n",
       "      <th>whether he/she donated blood in March 2007</th>\n",
       "    </tr>\n",
       "  </thead>\n",
       "  <tbody>\n",
       "    <tr>\n",
       "      <th>count</th>\n",
       "      <td>673.000000</td>\n",
       "      <td>673.000000</td>\n",
       "      <td>673.000000</td>\n",
       "      <td>673.000000</td>\n",
       "      <td>673.000000</td>\n",
       "    </tr>\n",
       "    <tr>\n",
       "      <th>mean</th>\n",
       "      <td>9.451709</td>\n",
       "      <td>5.450223</td>\n",
       "      <td>1362.555721</td>\n",
       "      <td>34.228826</td>\n",
       "      <td>0.237741</td>\n",
       "    </tr>\n",
       "    <tr>\n",
       "      <th>std</th>\n",
       "      <td>8.185596</td>\n",
       "      <td>5.750334</td>\n",
       "      <td>1437.583540</td>\n",
       "      <td>24.113656</td>\n",
       "      <td>0.426017</td>\n",
       "    </tr>\n",
       "    <tr>\n",
       "      <th>min</th>\n",
       "      <td>0.000000</td>\n",
       "      <td>1.000000</td>\n",
       "      <td>250.000000</td>\n",
       "      <td>2.000000</td>\n",
       "      <td>0.000000</td>\n",
       "    </tr>\n",
       "    <tr>\n",
       "      <th>25%</th>\n",
       "      <td>3.000000</td>\n",
       "      <td>2.000000</td>\n",
       "      <td>500.000000</td>\n",
       "      <td>16.000000</td>\n",
       "      <td>0.000000</td>\n",
       "    </tr>\n",
       "    <tr>\n",
       "      <th>50%</th>\n",
       "      <td>7.000000</td>\n",
       "      <td>4.000000</td>\n",
       "      <td>1000.000000</td>\n",
       "      <td>28.000000</td>\n",
       "      <td>0.000000</td>\n",
       "    </tr>\n",
       "    <tr>\n",
       "      <th>75%</th>\n",
       "      <td>14.000000</td>\n",
       "      <td>7.000000</td>\n",
       "      <td>1750.000000</td>\n",
       "      <td>50.000000</td>\n",
       "      <td>0.000000</td>\n",
       "    </tr>\n",
       "    <tr>\n",
       "      <th>max</th>\n",
       "      <td>74.000000</td>\n",
       "      <td>50.000000</td>\n",
       "      <td>12500.000000</td>\n",
       "      <td>98.000000</td>\n",
       "      <td>1.000000</td>\n",
       "    </tr>\n",
       "  </tbody>\n",
       "</table>\n",
       "</div>"
      ],
      "text/plain": [
       "       Recency (months)  Frequency (times)  Monetary (c.c. blood)  \\\n",
       "count        673.000000         673.000000             673.000000   \n",
       "mean           9.451709           5.450223            1362.555721   \n",
       "std            8.185596           5.750334            1437.583540   \n",
       "min            0.000000           1.000000             250.000000   \n",
       "25%            3.000000           2.000000             500.000000   \n",
       "50%            7.000000           4.000000            1000.000000   \n",
       "75%           14.000000           7.000000            1750.000000   \n",
       "max           74.000000          50.000000           12500.000000   \n",
       "\n",
       "       Time (months)  whether he/she donated blood in March 2007  \n",
       "count     673.000000                                  673.000000  \n",
       "mean       34.228826                                    0.237741  \n",
       "std        24.113656                                    0.426017  \n",
       "min         2.000000                                    0.000000  \n",
       "25%        16.000000                                    0.000000  \n",
       "50%        28.000000                                    0.000000  \n",
       "75%        50.000000                                    0.000000  \n",
       "max        98.000000                                    1.000000  "
      ]
     },
     "execution_count": 31,
     "metadata": {},
     "output_type": "execute_result"
    }
   ],
   "source": [
    "train.describe()"
   ]
  },
  {
   "attachments": {},
   "cell_type": "markdown",
   "metadata": {},
   "source": [
    "<h2 align=left style=\"line-height:130%;font-family:vazir;color:#1090ac\">\n",
    "<font face=\"vazir\" color=\"#1090ac\">\n",
    "Creating various combinations of dataset features\n",
    "</font>\n",
    "</h2>"
   ]
  },
  {
   "cell_type": "code",
   "execution_count": 41,
   "metadata": {},
   "outputs": [],
   "source": [
    "# This function is used to evaluate different combinations of features\n",
    "\n",
    "\n",
    "\n",
    "\n",
    "def score_combine_feature(X, y):\n",
    "    \n",
    "    f1_scores2 = []\n",
    "    \n",
    "    # k-fold cross Validation\n",
    "    kf = KFold(n_splits=50, shuffle=True)\n",
    "\n",
    "    for train_index, test_index in kf.split(X):\n",
    "        x_train, x_test = X[train_index], X[test_index]\n",
    "        y_train, y_test = y[train_index] , y[test_index]\n",
    "        std_scaler = StandardScaler().fit(x_train)\n",
    "        x_train = std_scaler.transform(x_train)\n",
    "        \n",
    "        # poly_features is used to create different new features by combining the power of two existing features\n",
    "        poly_transformer = PolynomialFeatures(degree=2)\n",
    "        poly_transformer.fit(x_train)\n",
    "        poly_features = poly_transformer.transform(x_train)\n",
    "\n",
    "\n",
    "        model = LogisticRegression()\n",
    "        model.fit(poly_features, y_train)\n",
    "        y_pred = model.predict_proba(poly_transformer.transform(std_scaler.transform(x_test)))[:, 1] > 0.30\n",
    "    \n",
    "        f1_scores2.append(f1_score(y_test, y_pred, average='macro'))\n",
    "    print(\"f1 score2:\", mean(f1_scores2))\n",
    "        \n",
    "        \n",
    "    \n",
    "   \n",
    "\n"
   ]
  },
  {
   "cell_type": "code",
   "execution_count": null,
   "metadata": {},
   "outputs": [],
   "source": [
    "x0 = train.iloc[:,:-1].values # best combination\n",
    "x1 = train.iloc[:,[0,1,3]].values \n",
    "x2 = train.iloc[:,[0,1,2]].values\n",
    "x6 = train.iloc[:,[0,1,2]].values\n",
    "x3= train.iloc[:,[0,2,3]].values  \n",
    "x4= train.iloc[:,[2,3]].values  \n",
    "x5= train.iloc[:,[0,3]].values  \n",
    "y = train.iloc[:,[-1]].values.ravel()\n"
   ]
  },
  {
   "cell_type": "code",
   "execution_count": 42,
   "metadata": {},
   "outputs": [
    {
     "name": "stdout",
     "output_type": "stream",
     "text": [
      "f1 score2: 0.6680859161149644\n",
      "f1 score2: 0.6465535298585641\n",
      "f1 score2: 0.6129792625869218\n",
      "f1 score2: 0.6464246708636533\n",
      "f1 score2: 0.5937272192876448\n",
      "f1 score2: 0.553431599033672\n",
      "f1 score2: 0.617295919757543\n"
     ]
    }
   ],
   "source": [
    "\n",
    "score_combine_feature(x0, y) # best combination\n",
    "score_combine_feature(x1, y)\n",
    "score_combine_feature(x2, y)\n",
    "score_combine_feature(x3, y)\n",
    "score_combine_feature(x4, y)\n",
    "score_combine_feature(x5, y)\n",
    "score_combine_feature(x6, y)\n"
   ]
  },
  {
   "attachments": {},
   "cell_type": "markdown",
   "metadata": {},
   "source": [
    "#### Construction of different types of logistic regression models"
   ]
  },
  {
   "cell_type": "code",
   "execution_count": 2,
   "metadata": {},
   "outputs": [],
   "source": [
    "\n",
    "\n",
    "def score_model(x,y):\n",
    "    \n",
    "    # These lists are made for F1-score values of different models\n",
    "    \n",
    "    pred0 =[]\n",
    "    pred1 =[]\n",
    "    pred2 =[]\n",
    "    pred3 =[]\n",
    "    pred4 =[]\n",
    "    pred5 =[]\n",
    "    \n",
    "    kf = KFold(n_splits=50, shuffle=True)\n",
    "    \n",
    "        \n",
    "    for train_index, test_index in kf.split(x): \n",
    "      \n",
    "        x_train, x_test = x[train_index], x[test_index]\n",
    "        y_train, y_test = y[train_index] , y[test_index]\n",
    "        std_scaler = StandardScaler().fit(x_train)\n",
    "        x_train = std_scaler.transform(x_train)\n",
    "        \n",
    "        poly_transformer = PolynomialFeatures(degree=2)\n",
    "        poly_transformer.fit(x_train)\n",
    "        poly_features = poly_transformer.transform(x_train)\n",
    "        model0 = LogisticRegression()\n",
    "        model1 = LogisticRegression()\n",
    "        model2 = LogisticRegression(C=0.1)\n",
    "        model3 = LogisticRegression()\n",
    "        model4 = LogisticRegression()\n",
    "        model5 = LogisticRegression()\n",
    "\n",
    "        model0.fit(x_train, y_train)\n",
    "        model1.fit(poly_features, y_train)\n",
    "        model2.fit(poly_features, y_train)\n",
    "        model3.fit(poly_features, y_train)\n",
    "        model4.fit(poly_features, y_train)\n",
    "        model5.fit(poly_features, y_train)\n",
    "        y_pred0 = model0.predict(std_scaler.transform(x_test))\n",
    "        y_pred1 = model1.predict(poly_transformer.transform(std_scaler.transform(x_test)))\n",
    "        y_pred2 = model2.predict(poly_transformer.transform(std_scaler.transform(x_test)))\n",
    "        \n",
    "        #predict_proba changes the class separation probability from 0.5 to some other value\n",
    "        y_pred3 = model3.predict_proba(poly_transformer.transform(std_scaler.transform(x_test)))[:, 1] > 0.25 \n",
    "        y_pred4 = model4.predict_proba(poly_transformer.transform(std_scaler.transform(x_test)))[:, 1] > 0.30 # best\n",
    "        y_pred5 = model5.predict_proba(poly_transformer.transform(std_scaler.transform(x_test)))[:, 1] > 0.35\n",
    "        \n",
    "        pred0.append(f1_score(y_test, y_pred0, average='macro'))\n",
    "        pred1.append(f1_score(y_test, y_pred1, average='macro'))\n",
    "        pred2.append(f1_score(y_test, y_pred2, average='macro'))\n",
    "        pred3.append(f1_score(y_test, y_pred3, average='macro'))\n",
    "        pred4.append(f1_score(y_test, y_pred4, average='macro'))\n",
    "        pred5.append(f1_score(y_test, y_pred5, average='macro'))\n",
    "        \n",
    "        \n",
    "        \n",
    "    print(\"avg for model:\\n\")\n",
    "    print(\"model0\",sum(pred0)/len(pred0))\n",
    "    print(\"model1\",sum(pred1)/len(pred1))\n",
    "    print(\"model2\",sum(pred2)/len(pred2))\n",
    "    print(\"model3\",sum(pred3)/len(pred3))\n",
    "    print(\"model4\",sum(pred4)/len(pred4))\n",
    "    print(\"model5\",sum(pred5)/len(pred5))\n",
    "    \n",
    "    \n",
    "    \n",
    "    "
   ]
  },
  {
   "cell_type": "code",
   "execution_count": 37,
   "metadata": {},
   "outputs": [
    {
     "name": "stdout",
     "output_type": "stream",
     "text": [
      "avg for model:\n",
      "\n",
      "model0 0.5029616491722833\n",
      "model1 0.5771977071661283\n",
      "model2 0.5500777883528457\n",
      "model3 0.6255176017316616\n",
      "model4 0.6599864445503496\n",
      "model5 0.6387042577094065\n"
     ]
    }
   ],
   "source": [
    "# using best combination of feature for score measurement models\n",
    "score_model(x0,y)\n"
   ]
  },
  {
   "cell_type": "code",
   "execution_count": null,
   "metadata": {},
   "outputs": [],
   "source": []
  },
  {
   "attachments": {},
   "cell_type": "markdown",
   "metadata": {},
   "source": [
    "<h2 align=left style=\"line-height:200%;font-family:vazir;color:#0099cc\">\n",
    "<font face=\"vazir\" color=\"#0099cc\">\n",
    "predict for test set and output\n",
    "</font>\n",
    "</h2>"
   ]
  },
  {
   "attachments": {},
   "cell_type": "markdown",
   "metadata": {},
   "source": [
    "After choosing the desired model, we use a model trained to see by the entire <code>train</code> data to predict the <code>test</code> set"
   ]
  },
  {
   "cell_type": "code",
   "execution_count": 29,
   "metadata": {},
   "outputs": [
    {
     "data": {
      "text/html": [
       "<style>#sk-container-id-4 {color: black;background-color: white;}#sk-container-id-4 pre{padding: 0;}#sk-container-id-4 div.sk-toggleable {background-color: white;}#sk-container-id-4 label.sk-toggleable__label {cursor: pointer;display: block;width: 100%;margin-bottom: 0;padding: 0.3em;box-sizing: border-box;text-align: center;}#sk-container-id-4 label.sk-toggleable__label-arrow:before {content: \"▸\";float: left;margin-right: 0.25em;color: #696969;}#sk-container-id-4 label.sk-toggleable__label-arrow:hover:before {color: black;}#sk-container-id-4 div.sk-estimator:hover label.sk-toggleable__label-arrow:before {color: black;}#sk-container-id-4 div.sk-toggleable__content {max-height: 0;max-width: 0;overflow: hidden;text-align: left;background-color: #f0f8ff;}#sk-container-id-4 div.sk-toggleable__content pre {margin: 0.2em;color: black;border-radius: 0.25em;background-color: #f0f8ff;}#sk-container-id-4 input.sk-toggleable__control:checked~div.sk-toggleable__content {max-height: 200px;max-width: 100%;overflow: auto;}#sk-container-id-4 input.sk-toggleable__control:checked~label.sk-toggleable__label-arrow:before {content: \"▾\";}#sk-container-id-4 div.sk-estimator input.sk-toggleable__control:checked~label.sk-toggleable__label {background-color: #d4ebff;}#sk-container-id-4 div.sk-label input.sk-toggleable__control:checked~label.sk-toggleable__label {background-color: #d4ebff;}#sk-container-id-4 input.sk-hidden--visually {border: 0;clip: rect(1px 1px 1px 1px);clip: rect(1px, 1px, 1px, 1px);height: 1px;margin: -1px;overflow: hidden;padding: 0;position: absolute;width: 1px;}#sk-container-id-4 div.sk-estimator {font-family: monospace;background-color: #f0f8ff;border: 1px dotted black;border-radius: 0.25em;box-sizing: border-box;margin-bottom: 0.5em;}#sk-container-id-4 div.sk-estimator:hover {background-color: #d4ebff;}#sk-container-id-4 div.sk-parallel-item::after {content: \"\";width: 100%;border-bottom: 1px solid gray;flex-grow: 1;}#sk-container-id-4 div.sk-label:hover label.sk-toggleable__label {background-color: #d4ebff;}#sk-container-id-4 div.sk-serial::before {content: \"\";position: absolute;border-left: 1px solid gray;box-sizing: border-box;top: 0;bottom: 0;left: 50%;z-index: 0;}#sk-container-id-4 div.sk-serial {display: flex;flex-direction: column;align-items: center;background-color: white;padding-right: 0.2em;padding-left: 0.2em;position: relative;}#sk-container-id-4 div.sk-item {position: relative;z-index: 1;}#sk-container-id-4 div.sk-parallel {display: flex;align-items: stretch;justify-content: center;background-color: white;position: relative;}#sk-container-id-4 div.sk-item::before, #sk-container-id-4 div.sk-parallel-item::before {content: \"\";position: absolute;border-left: 1px solid gray;box-sizing: border-box;top: 0;bottom: 0;left: 50%;z-index: -1;}#sk-container-id-4 div.sk-parallel-item {display: flex;flex-direction: column;z-index: 1;position: relative;background-color: white;}#sk-container-id-4 div.sk-parallel-item:first-child::after {align-self: flex-end;width: 50%;}#sk-container-id-4 div.sk-parallel-item:last-child::after {align-self: flex-start;width: 50%;}#sk-container-id-4 div.sk-parallel-item:only-child::after {width: 0;}#sk-container-id-4 div.sk-dashed-wrapped {border: 1px dashed gray;margin: 0 0.4em 0.5em 0.4em;box-sizing: border-box;padding-bottom: 0.4em;background-color: white;}#sk-container-id-4 div.sk-label label {font-family: monospace;font-weight: bold;display: inline-block;line-height: 1.2em;}#sk-container-id-4 div.sk-label-container {text-align: center;}#sk-container-id-4 div.sk-container {/* jupyter's `normalize.less` sets `[hidden] { display: none; }` but bootstrap.min.css set `[hidden] { display: none !important; }` so we also need the `!important` here to be able to override the default hidden behavior on the sphinx rendered scikit-learn.org. See: https://github.com/scikit-learn/scikit-learn/issues/21755 */display: inline-block !important;position: relative;}#sk-container-id-4 div.sk-text-repr-fallback {display: none;}</style><div id=\"sk-container-id-4\" class=\"sk-top-container\"><div class=\"sk-text-repr-fallback\"><pre>LogisticRegression()</pre><b>In a Jupyter environment, please rerun this cell to show the HTML representation or trust the notebook. <br />On GitHub, the HTML representation is unable to render, please try loading this page with nbviewer.org.</b></div><div class=\"sk-container\" hidden><div class=\"sk-item\"><div class=\"sk-estimator sk-toggleable\"><input class=\"sk-toggleable__control sk-hidden--visually\" id=\"sk-estimator-id-4\" type=\"checkbox\" checked><label for=\"sk-estimator-id-4\" class=\"sk-toggleable__label sk-toggleable__label-arrow\">LogisticRegression</label><div class=\"sk-toggleable__content\"><pre>LogisticRegression()</pre></div></div></div></div></div>"
      ],
      "text/plain": [
       "LogisticRegression()"
      ]
     },
     "execution_count": 29,
     "metadata": {},
     "output_type": "execute_result"
    }
   ],
   "source": [
    "train = pd.read_csv('train.csv')\n",
    "test = pd.read_csv('test.csv')\n",
    "\n",
    "\n",
    "x=train.iloc[:,:-1].values\n",
    "\n",
    "\n",
    "y = train.iloc[:,[-1]].values.ravel()\n",
    "\n",
    "std_scaler = StandardScaler().fit(x)\n",
    "x_train = std_scaler.transform(x)\n",
    "poly_transformer = PolynomialFeatures(degree=2)\n",
    "poly_transformer.fit(x_train)\n",
    "poly_features = poly_transformer.transform(x_train)\n",
    "model = LogisticRegression()\n",
    "model.fit(poly_features, y)\n",
    "\n"
   ]
  },
  {
   "cell_type": "code",
   "execution_count": 30,
   "metadata": {},
   "outputs": [
    {
     "data": {
      "text/html": [
       "<div>\n",
       "<style scoped>\n",
       "    .dataframe tbody tr th:only-of-type {\n",
       "        vertical-align: middle;\n",
       "    }\n",
       "\n",
       "    .dataframe tbody tr th {\n",
       "        vertical-align: top;\n",
       "    }\n",
       "\n",
       "    .dataframe thead th {\n",
       "        text-align: right;\n",
       "    }\n",
       "</style>\n",
       "<table border=\"1\" class=\"dataframe\">\n",
       "  <thead>\n",
       "    <tr style=\"text-align: right;\">\n",
       "      <th></th>\n",
       "      <th>prediction</th>\n",
       "    </tr>\n",
       "  </thead>\n",
       "  <tbody>\n",
       "    <tr>\n",
       "      <th>0</th>\n",
       "      <td>0</td>\n",
       "    </tr>\n",
       "    <tr>\n",
       "      <th>1</th>\n",
       "      <td>0</td>\n",
       "    </tr>\n",
       "    <tr>\n",
       "      <th>2</th>\n",
       "      <td>1</td>\n",
       "    </tr>\n",
       "    <tr>\n",
       "      <th>3</th>\n",
       "      <td>0</td>\n",
       "    </tr>\n",
       "    <tr>\n",
       "      <th>4</th>\n",
       "      <td>0</td>\n",
       "    </tr>\n",
       "    <tr>\n",
       "      <th>...</th>\n",
       "      <td>...</td>\n",
       "    </tr>\n",
       "    <tr>\n",
       "      <th>70</th>\n",
       "      <td>0</td>\n",
       "    </tr>\n",
       "    <tr>\n",
       "      <th>71</th>\n",
       "      <td>0</td>\n",
       "    </tr>\n",
       "    <tr>\n",
       "      <th>72</th>\n",
       "      <td>1</td>\n",
       "    </tr>\n",
       "    <tr>\n",
       "      <th>73</th>\n",
       "      <td>1</td>\n",
       "    </tr>\n",
       "    <tr>\n",
       "      <th>74</th>\n",
       "      <td>1</td>\n",
       "    </tr>\n",
       "  </tbody>\n",
       "</table>\n",
       "<p>75 rows × 1 columns</p>\n",
       "</div>"
      ],
      "text/plain": [
       "    prediction\n",
       "0            0\n",
       "1            0\n",
       "2            1\n",
       "3            0\n",
       "4            0\n",
       "..         ...\n",
       "70           0\n",
       "71           0\n",
       "72           1\n",
       "73           1\n",
       "74           1\n",
       "\n",
       "[75 rows x 1 columns]"
      ]
     },
     "execution_count": 30,
     "metadata": {},
     "output_type": "execute_result"
    }
   ],
   "source": [
    "\n",
    "y_pred = model.predict_proba(poly_transformer.transform(std_scaler.transform(test.values)))[:, 1] > 0.30\n",
    "submission = pd.DataFrame(y_pred,columns=[\"prediction\"]).astype(int)\n",
    "submission"
   ]
  },
  {
   "attachments": {},
   "cell_type": "markdown",
   "metadata": {},
   "source": [
    "<h2 align=left style=\"line-height:200%;font-family:vazir;color:#0099cc\">\n",
    "<font face=\"vazir\" color=\"#0099cc\">\n",
    "<b> response cell</b>\n",
    "</font>\n",
    "</h2>\n",
    "\n",
    "Run the following cell to create the <code>result.zip</code> file.\n",
    "     <br>\n",
    "     You should upload the <code>result.zip</code> file in Quora and wait for the result of the arbitration!\n",
    "     <br>\n",
    "     This file contains <code>submission.csv</code>, the same notebook that you are coding in, and your model is saved.\n"
   ]
  },
  {
   "cell_type": "code",
   "execution_count": null,
   "metadata": {},
   "outputs": [],
   "source": [
    "import zipfile\n",
    "import joblib\n",
    "\n",
    "def compress(file_names):\n",
    "    print(\"File Paths:\")\n",
    "    print(file_names)\n",
    "    compression = zipfile.ZIP_DEFLATED\n",
    "    with zipfile.ZipFile(\"result.zip\", mode=\"w\") as zf:\n",
    "        for file_name in file_names:\n",
    "            zf.write('./' + file_name, file_name, compress_type=compression)\n",
    "\n",
    "\n",
    "joblib.dump(model, 'model')\n",
    "submission.to_csv('submission.csv', index=False)\n",
    "\n",
    "file_names = ['model', 'submission.csv', 'blood_donation.ipynb']\n",
    "compress(file_names)"
   ]
  },
  {
   "attachments": {},
   "cell_type": "markdown",
   "metadata": {},
   "source": [
    "!<img src=\"score.png\" alt=\"Drawing\" style=\"width: 500px;\"/>"
   ]
  },
  {
   "cell_type": "code",
   "execution_count": null,
   "metadata": {},
   "outputs": [],
   "source": []
  }
 ],
 "metadata": {
  "kernelspec": {
   "display_name": "Python 3",
   "language": "python",
   "name": "python3"
  },
  "language_info": {
   "codemirror_mode": {
    "name": "ipython",
    "version": 3
   },
   "file_extension": ".py",
   "mimetype": "text/x-python",
   "name": "python",
   "nbconvert_exporter": "python",
   "pygments_lexer": "ipython3",
   "version": "3.11.1"
  },
  "orig_nbformat": 4
 },
 "nbformat": 4,
 "nbformat_minor": 2
}
